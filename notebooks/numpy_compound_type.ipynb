{
 "cells": [
  {
   "cell_type": "code",
   "execution_count": 1,
   "id": "9086ce08-5114-491d-831a-5105c31c26c3",
   "metadata": {},
   "outputs": [],
   "source": [
    "import numpy as np"
   ]
  },
  {
   "cell_type": "code",
   "execution_count": 25,
   "id": "e5099ce8-716b-4e81-bb10-91d74fc95ba7",
   "metadata": {},
   "outputs": [],
   "source": [
    "#d = np.dtype({'names': [{'shift': ['x', 'y']}, 'error', 'phasediff'], 'formats': ['f4', 'f4', 'f4', 'f4']})\n",
    "data = [\n",
    "    (5, 6, (7, 8)),\n",
    "    (12.9, 1.3, (2.0, 1.0)),\n",
    "       ]\n",
    "\n",
    "n=np.array(data, dtype=[\n",
    "    ('error', 'f'),\n",
    "    ('phasediff', 'f'),\n",
    "    ('shift',\n",
    "     [('x', 'f'),\n",
    "      ('y', 'f')])])"
   ]
  },
  {
   "cell_type": "code",
   "execution_count": 29,
   "id": "c0635b87-7a04-44b7-9967-fbed184150f5",
   "metadata": {},
   "outputs": [
    {
     "data": {
      "text/plain": [
       "array([(7., 8.), (2., 1.)], dtype=[('x', '<f4'), ('y', '<f4')])"
      ]
     },
     "execution_count": 29,
     "metadata": {},
     "output_type": "execute_result"
    }
   ],
   "source": [
    "n[\"shift\"]"
   ]
  }
 ],
 "metadata": {
  "kernelspec": {
   "display_name": "Python 3 (ipykernel)",
   "language": "python",
   "name": "python3"
  },
  "language_info": {
   "codemirror_mode": {
    "name": "ipython",
    "version": 3
   },
   "file_extension": ".py",
   "mimetype": "text/x-python",
   "name": "python",
   "nbconvert_exporter": "python",
   "pygments_lexer": "ipython3",
   "version": "3.9.12"
  }
 },
 "nbformat": 4,
 "nbformat_minor": 5
}
